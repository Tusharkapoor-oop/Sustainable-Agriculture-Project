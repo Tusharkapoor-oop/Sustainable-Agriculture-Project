{
 "cells": [
  {
   "cell_type": "code",
   "execution_count": 1,
   "id": "a84893ea",
   "metadata": {},
   "outputs": [],
   "source": [
    "# 02_model_training.py\n",
    "\n",
    "import os\n",
    "import sys\n",
    "import pickle\n",
    "import warnings\n",
    "\n",
    "import pandas as pd\n",
    "import numpy as np\n",
    "from sklearn.model_selection import train_test_split, cross_val_score\n",
    "from sklearn.ensemble import RandomForestClassifier\n",
    "from sklearn.linear_model import LogisticRegression\n",
    "from sklearn.svm import SVC\n",
    "from sklearn.metrics import accuracy_score\n"
   ]
  },
  {
   "cell_type": "code",
   "execution_count": 2,
   "id": "b7fb09aa",
   "metadata": {},
   "outputs": [],
   "source": [
    "# Add project root to sys.path\n",
    "sys.path.append(r\"C:\\Users\\tusha\\Downloads\\Sustainable-Crop-Recommendation\")\n",
    "\n",
    "from src import data_preprocessing, feature_engineering\n",
    "\n",
    "warnings.filterwarnings(\"ignore\")"
   ]
  },
  {
   "cell_type": "code",
   "execution_count": 3,
   "id": "c88bc03d",
   "metadata": {},
   "outputs": [],
   "source": [
    "\n",
    "# ======================\n",
    "# Load & preprocess data\n",
    "# ======================\n",
    "\n",
    "def load_and_prepare_data(path: str):\n",
    "    df = pd.read_csv(path)\n",
    "    df = data_preprocessing.handle_missing_values(df)\n",
    "    df = data_preprocessing.scale_features(df)\n",
    "\n",
    "    # Feature engineering\n",
    "    df = feature_engineering.add_soil_fertility_index(df)\n",
    "    df = feature_engineering.add_drought_score(df)\n",
    "\n",
    "    X = df.drop(columns=[\"label\"])\n",
    "    y = df[\"label\"]\n",
    "\n",
    "    return train_test_split(X, y, test_size=0.2, random_state=42)"
   ]
  },
  {
   "cell_type": "code",
   "execution_count": 4,
   "id": "7657bd93",
   "metadata": {},
   "outputs": [],
   "source": [
    "# ======================\n",
    "# Model training\n",
    "# ======================\n",
    "def train_models(X_train, y_train):\n",
    "    models = {\n",
    "        \"RandomForest\": RandomForestClassifier(n_estimators=100, random_state=42),\n",
    "        \"LogisticRegression\": LogisticRegression(max_iter=500),\n",
    "        \"SVM\": SVC(kernel=\"rbf\", probability=True, random_state=42),\n",
    "    }\n",
    "\n",
    "    results = {}\n",
    "    for name, model in models.items():\n",
    "        print(f\"\\nTraining {name}...\")\n",
    "        model.fit(X_train, y_train)\n",
    "        scores = cross_val_score(model, X_train, y_train, cv=5)\n",
    "        results[name] = {\n",
    "            \"model\": model,\n",
    "            \"cv_score_mean\": np.mean(scores),\n",
    "            \"cv_score_std\": np.std(scores),\n",
    "        }\n",
    "        print(f\"{name} CV Accuracy: {results[name]['cv_score_mean']:.4f} ± {results[name]['cv_score_std']:.4f}\")\n",
    "\n",
    "    return results"
   ]
  },
  {
   "cell_type": "code",
   "execution_count": 5,
   "id": "5132e1db",
   "metadata": {},
   "outputs": [],
   "source": [
    "# ======================\n",
    "# Save best model\n",
    "# ======================\n",
    "def save_best_model(results, save_path=\"best_model.pkl\"):\n",
    "    best_model_name = max(results, key=lambda name: results[name][\"cv_score_mean\"])\n",
    "    best_model = results[best_model_name][\"model\"]\n",
    "\n",
    "    with open(save_path, \"wb\") as f:\n",
    "        pickle.dump(best_model, f)\n",
    "\n",
    "    print(f\"\\n✅ Best model: {best_model_name} saved at {save_path}\")\n",
    "    return best_model_name"
   ]
  },
  {
   "cell_type": "code",
   "execution_count": 6,
   "id": "5d62330b",
   "metadata": {},
   "outputs": [],
   "source": [
    "def load_and_prepare_data(path: str):\n",
    "    \"\"\"Load dataset, clean it, scale features, and split X/y.\"\"\"\n",
    "    df = pd.read_csv(path)\n",
    "\n",
    "    # ✅ Normalize column names (lowercase -> consistent)\n",
    "    df.columns = [col.strip().lower() for col in df.columns]\n",
    "\n",
    "    # Expected columns in dataset\n",
    "    expected = [\"n\", \"p\", \"k\", \"temperature\", \"humidity\", \"ph\", \"rainfall\", \"label\"]\n",
    "    missing = [col for col in expected if col not in df.columns]\n",
    "    if missing:\n",
    "        raise KeyError(f\"❌ Missing columns in dataset: {missing}\")\n",
    "\n",
    "    # Handle missing values\n",
    "    for col in df.select_dtypes(include=\"number\").columns:\n",
    "        df[col].fillna(df[col].median(), inplace=True)\n",
    "    for col in df.select_dtypes(include=\"object\").columns:\n",
    "        df[col].fillna(df[col].mode()[0], inplace=True)\n",
    "\n",
    "    # Split features + labels\n",
    "    X = df.drop(\"label\", axis=1)\n",
    "    y = df[\"label\"]\n",
    "\n",
    "    # Encode categorical features if any\n",
    "    from sklearn.preprocessing import LabelEncoder, StandardScaler\n",
    "    encoders = {}\n",
    "    for col in X.select_dtypes(include=[\"object\"]).columns:\n",
    "        le = LabelEncoder()\n",
    "        X[col] = le.fit_transform(X[col])\n",
    "        encoders[col] = le\n",
    "\n",
    "    # Encode target\n",
    "    le_y = LabelEncoder()\n",
    "    y = le_y.fit_transform(y)\n",
    "    encoders[\"label\"] = le_y\n",
    "\n",
    "    # Scale numeric features\n",
    "    scaler = StandardScaler()\n",
    "    numeric_cols = X.select_dtypes(include=\"number\").columns\n",
    "    X[numeric_cols] = scaler.fit_transform(X[numeric_cols])\n",
    "\n",
    "    # Train/test split\n",
    "    from sklearn.model_selection import train_test_split\n",
    "    min_class_count = pd.Series(y).value_counts().min()\n",
    "    stratify = y if min_class_count >= 2 else None\n",
    "    X_train, X_test, y_train, y_test = train_test_split(\n",
    "        X, y, test_size=0.2, random_state=42, stratify=stratify\n",
    "    )\n",
    "\n",
    "    return X_train, X_test, y_train, y_test\n"
   ]
  },
  {
   "cell_type": "code",
   "execution_count": 7,
   "id": "3aa9e4b0",
   "metadata": {},
   "outputs": [
    {
     "name": "stdout",
     "output_type": "stream",
     "text": [
      "['BASE_DIR', 'PROCESSED_DIR', 'RAW_DIR', 'StandardScaler', '__builtins__', '__cached__', '__doc__', '__file__', '__loader__', '__name__', '__package__', '__spec__', 'handle_missing_values', 'load_and_prepare_data', 'load_data', 'os', 'pd', 'preprocess_and_merge', 'scale_features']\n",
      "C:\\Users\\tusha\\Downloads\\Sustainable-Crop-Recommendation\\src\\data_preprocessing.py\n"
     ]
    }
   ],
   "source": [
    "import src.data_preprocessing as dp\n",
    "print(dir(dp))   # shows all functions/variables available\n",
    "print(dp.__file__)  # tells you which file is being imported\n"
   ]
  }
 ],
 "metadata": {
  "kernelspec": {
   "display_name": "base",
   "language": "python",
   "name": "python3"
  },
  "language_info": {
   "codemirror_mode": {
    "name": "ipython",
    "version": 3
   },
   "file_extension": ".py",
   "mimetype": "text/x-python",
   "name": "python",
   "nbconvert_exporter": "python",
   "pygments_lexer": "ipython3",
   "version": "3.12.4"
  }
 },
 "nbformat": 4,
 "nbformat_minor": 5
}
